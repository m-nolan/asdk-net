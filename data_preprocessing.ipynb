{
 "cells": [
  {
   "cell_type": "code",
   "execution_count": 6,
   "metadata": {},
   "outputs": [],
   "source": [
    "import numpy as np\n",
    "import pandas as pd\n",
    "\n",
    "def load_sess_trials(cache, sess_id, stim_label_list, bin_size, kernel_param):\n",
    "    # load session data\n",
    "    data = cache.get_session_data(sess_id)\n",
    "    for i, stim_label in enumerate(stim_label_list):\n",
    "        # get start, end time points\n",
    "        stim_data_table = data.get_stimulus_table()[data.get_stimulus_table().stimulus_name==stim_label]\n",
    "        start_time = np.array(stim_data_table.start_time)\n",
    "        stop_time = np.array(stim_data_table.stop_time)\n",
    "        trial_time = np.mean(stop_time - start_time)\n",
    "        bin_edges = np.arange(trial_time + bin_size, step = bin_size )\n",
    "        t_bin[i] = bin_edges\n",
    "        stim_presentation_ids = data.stimulus_presentations.loc[\n",
    "            (data.stimulus_presentations['stimulus_name'] == stim_label)\n",
    "            ].index.values\n",
    "        unit_ids = data.units.index.values\n",
    "        P[i] = presentationwise_spike_counts(bin_edges,stim_presentation_ids,unit_ids)\n",
    "        # get windowed spike times\n",
    "        # S[i] = window_spk_times(data,start_time,stop_time)\n",
    "        # get binned spike rates\n",
    "        # t_bin[i], P[i] = bin_spikes(S[i],bin_size)\n",
    "        # kernel smoothed estimate of binned spike rates\n",
    "        X[i] = smooth_spikes(P[i],kernel_param)\n",
    "        \n",
    "    return (t_bin, P, X)"
   ]
  },
  {
   "cell_type": "code",
   "execution_count": 7,
   "metadata": {},
   "outputs": [],
   "source": [
    "def window_spk_times( data, start_time, stop_time ):\n",
    "    # Vincent\n",
    "## The code I suppose\n",
    "unit_spikes=data.spike_times[data.units.index.values]\n",
    "S = unit_spikes[np.logical_and(unit_spikes>=start_time,unit_spikes<stop_time)]\n",
    "##alternative code\n",
    "drifting_gratings_presentation_ids = session.stimulus_presentations.loc[(session.stimulus_presentations['stimulus_name'] == 'drifting_gratings')].index.values\n",
    "S = session.presentationwise_spike_times(stimulus_presentation_ids=drifting_gratings_presentation_ids,\n",
    "                                         unit_ids=data.units.index.value,\n",
    "                                         np.logical_and(unit_spikes>=start_time,unit_spikes<stop_time))\n",
    "    return S "
   ]
  },
  {
   "cell_type": "code",
   "execution_count": 8,
   "metadata": {},
   "outputs": [],
   "source": [
    "def bin_spikes( S, bin_size, trial_time ):\n",
    "    # Ryan\n",
    "    P = list()\n",
    "    t_bin = np.arange(trial_time, step = bin_size)\n",
    "    for s_trial in S:\n",
    "        pi = list()\n",
    "        for unit in s_trial:\n",
    "            pj, _ = np.histogram(np.array(unit), bins = t_bin)\n",
    "            pi.append(pj)\n",
    "        P.append(pi)\n",
    "    return (t_bin, P)"
   ]
  },
  {
   "cell_type": "code",
   "execution_count": 9,
   "metadata": {},
   "outputs": [],
   "source": [
    "def smooth_spikes( P, kernel_param ):\n",
    "    # Rahul\n",
    "    \"\"\"\n",
    "    P: #trials x #units x #time-points sized ndarray\n",
    "    kernel_param: width of kernel (in samplingrate*1000 units)\n",
    "\n",
    "    \"\"\"\n",
    "\n",
    "    import numpy as np\n",
    "    import time\n",
    "    import scipy.stats, scipy.signal\n",
    "    import scipy as sp\n",
    "\n",
    "    start = time.time() # tic Measures function running speed. Works only on Macs\n",
    "\n",
    "    trials = P.shape[0]\n",
    "    units = P.shape[1]\n",
    "    bins = P.shape[2]\n",
    "\n",
    "    # Create fake data for testing purposes\n",
    "    #    array = np.random.randint(0,2,(trials,bins))\n",
    "    #    sigma = 45\n",
    "\n",
    "    #Define kernel\n",
    "    sigma = kernel_param/6. \n",
    "    edges = np.arange(-3*sigma,3*sigma+.001,.001)\n",
    "    kernel = sp.stats.norm.pdf(edges,0, sigma) #Use a gaussian function\n",
    "\n",
    "    #Compute Spike Density Function for all trials\n",
    "    X = np.zeros((trials,units,bins))\n",
    "    X = sp.signal.convolve(P, kernel[None,None, :], mode='same')\n",
    "\n",
    "    print('Run time for SDF function was ' + str(round(time.time()-start)) + 'seconds') # toc\n",
    "    return X"
   ]
  },
  {
   "cell_type": "code",
   "execution_count": null,
   "metadata": {},
   "outputs": [],
   "source": []
  }
 ],
 "metadata": {
  "kernelspec": {
   "display_name": "asdk_net",
   "language": "python",
   "name": "asdk_net"
  },
  "language_info": {
   "codemirror_mode": {
    "name": "ipython",
    "version": 3
   },
   "file_extension": ".py",
   "mimetype": "text/x-python",
   "name": "python",
   "nbconvert_exporter": "python",
   "pygments_lexer": "ipython3",
   "version": "3.6.10"
  }
 },
 "nbformat": 4,
 "nbformat_minor": 4
}

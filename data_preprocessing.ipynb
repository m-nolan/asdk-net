{
 "cells": [
  {
   "cell_type": "code",
   "execution_count": 6,
   "metadata": {},
   "outputs": [],
   "source": [
    "import numpy as np\n",
    "import pandas as pd\n",
    "\n",
    "def load_sess_trials(cache, sess_id, stim_label_list, bin_size, kernel_param):\n",
    "    # load session data\n",
    "    data = cache.get_session_data(sess_id)\n",
    "    for stim_i, stim_label in enumerate(stim_label_list):\n",
    "        # get start, end time points\n",
    "        stim_data_table = data.get_stimulus_table()[data.get_stimulus_table().stimulus_name==stim_label]\n",
    "        start_time = np.array(stim_data_table.start_time)\n",
    "        stop_time = np.array(stim_data_table.stop_time)\n",
    "        # get windowed spike times\n",
    "        S[i] = window_spk_times(data,start_time,stop_time)\n",
    "        # get binned spike rates\n",
    "        t_bin[i], P[i] = bin_spikes(S[i],bin_size)\n",
    "        # kernel smoothed estimate of binned spike rates\n",
    "        X[i] = smooth_spikes(P[i],kernel_param)\n",
    "        \n",
    "    return (t_bin, S, P, X)"
   ]
  },
  {
   "cell_type": "code",
   "execution_count": 7,
   "metadata": {},
   "outputs": [],
   "source": [
    "def window_spk_times( data, start_time, stop_time ):\n",
    "    # Vincent\n",
    "    return S"
   ]
  },
  {
   "cell_type": "code",
   "execution_count": 8,
   "metadata": {},
   "outputs": [],
   "source": [
    "def bin_spikes( S, bin_size, trial_time ):\n",
    "    # Ryan\n",
    "    P, t_bin = np.histogram(S, bins = np.arange(trial_time, step = bin_size))",
    "    return (t_bin, P)"
   ]
  },
  {
   "cell_type": "code",
   "execution_count": 9,
   "metadata": {},
   "outputs": [],
   "source": [
    "def smooth_spikes( P, kernel_param ):\n",
    "    # Rahul\n",
    "    return X"
   ]
  },
  {
   "cell_type": "code",
   "execution_count": null,
   "metadata": {},
   "outputs": [],
   "source": []
  }
 ],
 "metadata": {
  "kernelspec": {
   "display_name": "asdk_net",
   "language": "python",
   "name": "asdk_net"
  },
  "language_info": {
   "codemirror_mode": {
    "name": "ipython",
    "version": 3
   },
   "file_extension": ".py",
   "mimetype": "text/x-python",
   "name": "python",
   "nbconvert_exporter": "python",
   "pygments_lexer": "ipython3",
   "version": "3.6.10"
  }
 },
 "nbformat": 4,
 "nbformat_minor": 4
}
